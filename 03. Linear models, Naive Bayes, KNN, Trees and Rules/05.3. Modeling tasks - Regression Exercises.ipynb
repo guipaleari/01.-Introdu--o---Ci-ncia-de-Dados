{
 "cells": [
  {
   "cell_type": "markdown",
   "metadata": {},
   "source": [
    "# Exercises\n",
    "\n",
    "## Modeling, Linear Regression and kNN\n",
    "\n",
    "1. A hospital service treats patients with a degenerative disease that takes some years to show symptons after the patient has a positive diagnosis. It is important for each patient to start taking a specific drug one year before the symptoms appear and it is not useful to take the drug before that. Taking the drug one year before symptoms gives the patient a better quality of life. On the other hand, the drug has a very high cost and if the patient takes it too long before needed this is a heavy burden for the healthcare budget. The service has data that describes each patient and with clinical and demographic attributes associating each record with the time between diagnosis and symptoms onset (symptoms start). Identify:\n",
    "    a. the business problem;\n",
    "    b. the business success criteria;\n",
    "    c. the machine learning type of task;\n",
    "    d. the machine learning problem;\n",
    "    e. the machine learning success criteria.\n",
    "2. Suppose we have a regression problem with 4 independent variables and one target variable:\n",
    "    a. when can we try a linear regression approach?\n",
    "    b. which regression model obtains an $R^2$ of 0?\n",
    "    c. how could a model obtain a negative $R^2$?\n",
    "    d. if all variables have a negative correlation with the target, what would be the signal of the coefficients?\n",
    "3. Download the classic \"auto-mpg-dataset\" and use linear regression for predicting the car consumption in miles per gallon (mpg).\n",
    "    a. Visualize the plots of the independent variables against the dependent variable \"mpg\". Which variable seems better for simple regression?\n",
    "    b. Using the scatter plots try to visualy rank the variables from more promising to less promising. Then obtain $R^2$ for the simple regression done on each variable and check if your intuition was correct.\n",
    "    c. Plot the regression line against the scatter plot for each variable.\n",
    "    d. Which variables have a positive coefficient? What is the meaning of having a positive or a negative coefficient?\n",
    "    e. Try multiple regression and compare this $R^2$ with the best ones from simple regression.\n",
    "    g. Measure the total sum of squares. What is the meaning of this value?\n",
    "    f. Examine the coefficients. Which are positive ones and which are the negative ones?\n",
    "    g. Some coefficients have larger magnitude and some have smaller. Does this difference of magnitudes have  meaning?\n",
    "    h. What can we do in order to be able to compare the magnitudes of coefficients of the variables? What can we then say about the variables with larger positive magnitudes and larger negative magnitudes?\n",
    "    i. If someone asks you \"what is the most important factor for incresing the car consupmption?\" what would you answer based on the results of linear regression?\n",
    "    j. Obtain 10 different random samples of the data and observe the samples of coefficients for each variable. Do they change much? What can you say about these samples? How does $R^2$ change for the 10 samples?\n",
    "    k. Implement linear regression from scratch by using matrix multiplication and inversion in python. Compare your results on a small sample of cases.\n",
    "    "
   ]
  }
 ],
 "metadata": {
  "kernelspec": {
   "display_name": "Python 3",
   "language": "python",
   "name": "python3"
  },
  "language_info": {
   "codemirror_mode": {
    "name": "ipython",
    "version": 3
   },
   "file_extension": ".py",
   "mimetype": "text/x-python",
   "name": "python",
   "nbconvert_exporter": "python",
   "pygments_lexer": "ipython3",
   "version": "3.8.3"
  }
 },
 "nbformat": 4,
 "nbformat_minor": 4
}
