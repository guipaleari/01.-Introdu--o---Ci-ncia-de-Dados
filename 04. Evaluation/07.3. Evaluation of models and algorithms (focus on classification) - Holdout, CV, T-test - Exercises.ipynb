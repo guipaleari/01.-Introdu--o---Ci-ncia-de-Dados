{
 "cells": [
  {
   "cell_type": "markdown",
   "metadata": {},
   "source": [
    "# Evaluation, decision trees and overfitting\n",
    "\n",
    "Decision trees are very expressive models. They can adjust to the training data. This can be a powerful feature, but it can also lead to overfitting. In other words, the model may perform well on the training data but not generalise well and fail on test data. To avoid overfitting we must make sure our tree does not have too thin ends. In other words, leaves and terminal nodes should have a minimum number of examples for statistical support.\n",
    "\n",
    "We can use holdout and cross-validation for observing this very important phenomenon.\n",
    "\n",
    "Load the `german_credit_data.csv`(found in kaggle) and separate into numerical descriptors only `X` (Age, Job, Credit amount and Duration) and target attribute (class) `y`. Note that we cannot use categorical descriptors directly."
   ]
  },
  {
   "cell_type": "code",
   "execution_count": 33,
   "metadata": {},
   "outputs": [
    {
     "data": {
      "text/plain": [
       "522"
      ]
     },
     "execution_count": 33,
     "metadata": {},
     "output_type": "execute_result"
    }
   ],
   "source": [
    "import pandas as pd\n",
    "import numpy as np\n",
    "\n",
    "d=pd.read_csv('../Dados/german_credit_data.csv')\n",
    "#X=np.array(d[['Age','Job','Credit amount','Duration']])\n",
    "#y=np.array(d.loc[:,['Risk']])\n",
    "X=d[['Age','Job','Credit amount','Duration']]\n",
    "y=d.loc[:,['Risk']]"
   ]
  },
  {
   "cell_type": "markdown",
   "metadata": {},
   "source": [
    "## Exercises\n",
    "\n",
    "**Exercise 1:** Build a decision tree for this data. Use the whole data without preprocessing. Classify the first 10 training examples using the tree. Calculate accuracy directly for the whole data. Note this is training data only. No holdout yet."
   ]
  },
  {
   "cell_type": "code",
   "execution_count": 48,
   "metadata": {},
   "outputs": [
    {
     "data": {
      "text/plain": [
       "1.0"
      ]
     },
     "execution_count": 48,
     "metadata": {},
     "output_type": "execute_result"
    }
   ],
   "source": [
    "# Ex 1\n",
    "\n",
    "from sklearn import tree\n",
    "\n",
    "treemod = tree.DecisionTreeClassifier()\n",
    "treemod.fit(X,y)\n",
    "treemod.predict(X.iloc[0:10,:])\n",
    "\n",
    "yhat=treemod.predict(X)\n",
    "Acc=sum(y==yhat)/len(y)\n",
    "Acc"
   ]
  },
  {
   "cell_type": "markdown",
   "metadata": {},
   "source": [
    "**Exercise 2:** What is the tree we obtained? Is it overfitting?  What are the default hyperparameters? Try different hyp"
   ]
  },
  {
   "cell_type": "code",
   "execution_count": 52,
   "metadata": {},
   "outputs": [
    {
     "data": {
      "image/png": "[encoded data removed]",
      "text/plain": [
       "<Figure size 432x288 with 1 Axes>"
      ]
     },
     "metadata": {
      "needs_background": "light"
     },
     "output_type": "display_data"
    }
   ],
   "source": [
    "# We can plot the tree and see it looks very detailed. That is a sign that tree is probably overfitting\n",
    "dump=tree.plot_tree(treemod)"
   ]
  },
  {
   "cell_type": "code",
   "execution_count": 62,
   "metadata": {},
   "outputs": [
    {
     "data": {
      "text/plain": [
       "(1.0, 0.69)"
      ]
     },
     "execution_count": 62,
     "metadata": {},
     "output_type": "execute_result"
    }
   ],
   "source": [
    "# to make sure it is, we will use holdout and compare train and test accuracy.\n",
    "\n",
    "from sklearn.model_selection import train_test_split\n",
    "from sklearn.metrics import accuracy_score\n",
    "\n",
    "X1, X2, y1, y2 = train_test_split(X, y, train_size=0.8)\n",
    "\n",
    "# fit the model on the training set X1 and leave X2 for testing\n",
    "treemod.fit(X1, y1)\n",
    "\n",
    "# evaluate the model on the second set of data\n",
    "yhat_train = treemod.predict(X1)\n",
    "yhat_test = treemod.predict(X2)\n",
    "\n",
    "accuracy_score(y1, yhat_train), accuracy_score(y2, yhat_test)"
   ]
  },
  {
   "cell_type": "markdown",
   "metadata": {},
   "source": [
    "The test accuracy is much lower. You can repeat the holdout a number of times. Each time it builds a different split and the values of acuracy may change. \n",
    "\n",
    "We will now try to improve the tree by pruning it. We saw above that the tree is a bit complex and deep. So we will try to cut it short."
   ]
  },
  {
   "cell_type": "code",
   "execution_count": 63,
   "metadata": {},
   "outputs": [
    {
     "data": {
      "text/plain": [
       "(0.695, 0.775)"
      ]
     },
     "execution_count": 63,
     "metadata": {},
     "output_type": "execute_result"
    }
   ],
   "source": [
    "treemod_md = tree.DecisionTreeClassifier(max_depth=5)\n",
    "treemod_md.fit(X1,y1)\n",
    "treemod.fit(X1, y1)\n",
    "\n",
    "ymdhat = treemod_md.predict(X2)\n",
    "yhat = treemod.predict(X2)\n",
    "\n",
    "accuracy_score(y2, yhat), accuracy_score(y2, ymdhat)\n"
   ]
  },
  {
   "cell_type": "markdown",
   "metadata": {},
   "source": [
    "The tree improved. How does the test accuracy change with depth?"
   ]
  },
  {
   "cell_type": "code",
   "execution_count": 77,
   "metadata": {},
   "outputs": [
    {
     "data": {
      "text/plain": [
       "0.775"
      ]
     },
     "execution_count": 77,
     "metadata": {},
     "output_type": "execute_result"
    }
   ],
   "source": [
    "# we define a function to make repetition easier\n",
    "# the function obtains the accuracy on the test set for a given split and tree depth\n",
    "def depth2acc(X1,X2,y1,y2,max_depth=None):\n",
    "    mod=tree.DecisionTreeClassifier(max_depth=max_depth)\n",
    "    mod.fit(X1,y1)\n",
    "    yhat=mod.predict(X2)\n",
    "    return accuracy_score(y2,yhat)\n",
    "\n",
    "# here is an example\n",
    "depth2acc(X1,X2,y1,y2,5)"
   ]
  },
  {
   "cell_type": "code",
   "execution_count": 79,
   "metadata": {},
   "outputs": [
    {
     "name": "stdout",
     "output_type": "stream",
     "text": [
      "1 0.735\n",
      "2 0.755\n",
      "3 0.78\n",
      "5 0.775\n",
      "7 0.74\n",
      "10 0.69\n",
      "15 0.675\n",
      "20 0.675\n",
      "30 0.7\n",
      "40 0.68\n",
      "50 0.685\n",
      "60 0.69\n",
      "70 0.68\n",
      "100 0.69\n"
     ]
    }
   ],
   "source": [
    "for i in [1,2,3,5,7,10,15,20,30,40,50,60,70,100]:\n",
    "    print(i,depth2acc(X1,X2,y1,y2,i))"
   ]
  },
  {
   "cell_type": "markdown",
   "metadata": {},
   "source": [
    "**Exercise 3** We can see the values. Can we plot them? Plot the values of accuracy.\n",
    "\n",
    "For that we need them in a single data structure like an array. For that we will use the `map` operator which takes a function for the first argument and a list of arguments for the second. The function can be any pyhton function, but it may be convenient to wrap the function as one with the argument that you want. One computer science way for doing that is with a `lambda` structure. "
   ]
  },
  {
   "cell_type": "code",
   "execution_count": 90,
   "metadata": {},
   "outputs": [],
   "source": [
    "# build a list from 1 to 100 with step 2\n",
    "depths=range(1,100,2)\n",
    "# lambda applies each of the depths to the depth2acc function. The result is transformed into a list.\n",
    "# a list os not the same as an array, but it can be used in some situations.\n",
    "accs=list(map(lambda i:depth2acc(X1,X2,y1,y2,i),depths))\n"
   ]
  },
  {
   "cell_type": "code",
   "execution_count": 93,
   "metadata": {},
   "outputs": [
    {
     "data": {
      "text/plain": [
       "[<matplotlib.lines.Line2D at 0x12a27aca0>]"
      ]
     },
     "execution_count": 93,
     "metadata": {},
     "output_type": "execute_result"
    },
    {
     "data": {
      "image/png": "[encoded data removed]",
      "text/plain": [
       "<Figure size 432x288 with 1 Axes>"
      ]
     },
     "metadata": {
      "needs_background": "light"
     },
     "output_type": "display_data"
    }
   ],
   "source": [
    "from matplotlib.pyplot import plot\n",
    "plot(depths,accs)"
   ]
  },
  {
   "cell_type": "markdown",
   "metadata": {},
   "source": [
    "We see that the accuracy is maximum with a very low depth (find out how python can give you the precise depth for the maximum). After the maximum it frops very quickly and we see the effect of overfitting. \n",
    "\n",
    "**Exercise 4:** We observe some unstability with the accuracy. Use crossvalidation instead of holdout and see if the line gets more stable (warning it takes $k$ times more to run)\n",
    "\n",
    "**Exercise 5:** Study the evolution of accuracy for other hyperparameters of the Decision Tree:\n",
    "(you can check https://scikit-learn.org/stable/modules/generated/sklearn.tree.DecisionTreeClassifier.html)\n",
    "- min_samples_leaf\n",
    "- min_samples_split\n",
    "- min_impurity_decrease\n",
    "- ccp_alpha (complexity)"
   ]
  },
  {
   "cell_type": "markdown",
   "metadata": {},
   "source": [
    "**Exercise 6:** Study how accuracy changes with the number of neighbours for the training and the test data with the kNN approach. Make a split and obtain an accuracy estimate for train and another for test for $k$ ranging from 1 to 100."
   ]
  }
 ],
 "metadata": {
  "kernelspec": {
   "display_name": "Python 3",
   "language": "python",
   "name": "python3"
  },
  "language_info": {
   "codemirror_mode": {
    "name": "ipython",
    "version": 3
   },
   "file_extension": ".py",
   "mimetype": "text/x-python",
   "name": "python",
   "nbconvert_exporter": "python",
   "pygments_lexer": "ipython3",
   "version": "3.8.3"
  }
 },
 "nbformat": 4,
 "nbformat_minor": 4
}
